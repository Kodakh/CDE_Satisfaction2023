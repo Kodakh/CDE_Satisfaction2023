{
 "cells": [
  {
   "cell_type": "code",
   "execution_count": 1,
   "id": "b2977682-645d-4b6e-83af-1549b55249b4",
   "metadata": {},
   "outputs": [],
   "source": [
    "import csv\n",
    "from elasticsearch import Elasticsearch"
   ]
  },
  {
   "cell_type": "code",
   "execution_count": 11,
   "id": "e3d3a130-3bd6-4850-a5bf-6a2a504d8197",
   "metadata": {},
   "outputs": [
    {
     "name": "stderr",
     "output_type": "stream",
     "text": [
      "/tmp/ipykernel_401565/2209251241.py:1: DeprecationWarning: The 'http_auth' parameter is deprecated. Use 'basic_auth' or 'bearer_auth' parameters instead\n",
      "  es = Elasticsearch(\n"
     ]
    }
   ],
   "source": [
    "es = Elasticsearch(\n",
    "    ['http://localhost:9200'],\n",
    "    http_auth=('elastic', '4862')\n",
    ")"
   ]
  },
  {
   "cell_type": "code",
   "execution_count": 5,
   "id": "dd43f3ac-af69-4845-88fa-4b8f33a49c7e",
   "metadata": {},
   "outputs": [],
   "source": [
    "import csv\n",
    "\n",
    "index_name = \"test\"\n",
    "\n",
    "with open('/home/jben/Documents/CDE_Satisfaction2023/data/processed/L6_processed.csv', 'r') as file:\n",
    "    csv_reader = csv.DictReader(file)\n",
    "    \n",
    "    for row in csv_reader:\n",
    "        entry = {\n",
    "            'author': row['author'],\n",
    "            'review': row['review'],\n",
    "            'date_review': row['date_review'],\n",
    "            'note': float(row['note']),\n",
    "            'cdiscount_response': int(row['cdiscount_response']),\n",
    "            'cdiscount_response_date': row['cdiscount_response_date'],\n",
    "            'cdiscount_response_content': row['cdiscount_response_content'],\n",
    "            'polarite': float(row['polarite']),\n",
    "            'subjectivite': float(row['subjectivite'])\n",
    "        }\n",
    "        \n",
    "        es.index(index=index_name, body=entry)"
   ]
  },
  {
   "cell_type": "code",
   "execution_count": 14,
   "id": "655b30a2-a5f8-451b-90bc-1386f866c1fd",
   "metadata": {
    "scrolled": true
   },
   "outputs": [],
   "source": [
    "from elasticsearch import Elasticsearch\n",
    "import csv\n",
    "\n",
    "index_name = \"test_relationnel\"\n",
    "\n",
    "mapping = {\n",
    "    \"properties\": {\n",
    "        \"name\": {\"type\": \"text\"},\n",
    "        \"URL\": {\"type\": \"keyword\"},\n",
    "        \"note\": {\"type\": \"float\"},\n",
    "        \"avis\": {\"type\": \"integer\"},\n",
    "        \"sous-cat\": {\"type\": \"text\"}\n",
    "    }\n",
    "}\n",
    "\n",
    "# Create the index with mapping\n",
    "es.indices.create(index=index_name, body={\"mappings\": mapping})\n",
    "\n",
    "with open('/home/jben/Documents/CDE_Satisfaction2023/data/processed/L4_processed.csv', 'r') as file:\n",
    "    csv_reader = csv.DictReader(file, fieldnames=['name', 'URL', 'note', 'avis', 'sous-cat'])\n",
    "    next(csv_reader)  # Skip the header row\n",
    "\n",
    "    for row in csv_reader:\n",
    "        entry = {\n",
    "            'name': row['name'],\n",
    "            'URL': row['URL'],\n",
    "            'note': float(row['note']),\n",
    "            'avis': int(row['avis']),\n",
    "            'sous-cat': row['sous-cat']\n",
    "        }\n",
    "\n",
    "        es.index(index=index_name, body=entry)"
   ]
  }
 ],
 "metadata": {
  "kernelspec": {
   "display_name": "Python 3 (ipykernel)",
   "language": "python",
   "name": "python3"
  },
  "language_info": {
   "codemirror_mode": {
    "name": "ipython",
    "version": 3
   },
   "file_extension": ".py",
   "mimetype": "text/x-python",
   "name": "python",
   "nbconvert_exporter": "python",
   "pygments_lexer": "ipython3",
   "version": "3.10.12"
  }
 },
 "nbformat": 4,
 "nbformat_minor": 5
}
