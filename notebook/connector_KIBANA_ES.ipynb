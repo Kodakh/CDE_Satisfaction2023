{
 "cells": [
  {
   "cell_type": "code",
   "execution_count": 1,
   "id": "b2977682-645d-4b6e-83af-1549b55249b4",
   "metadata": {},
   "outputs": [],
   "source": [
    "import csv\n",
    "from elasticsearch import Elasticsearch"
   ]
  },
  {
   "cell_type": "code",
   "execution_count": 2,
   "id": "e3d3a130-3bd6-4850-a5bf-6a2a504d8197",
   "metadata": {},
   "outputs": [
    {
     "name": "stderr",
     "output_type": "stream",
     "text": [
      "/tmp/ipykernel_80227/2209251241.py:1: DeprecationWarning: The 'http_auth' parameter is deprecated. Use 'basic_auth' or 'bearer_auth' parameters instead\n",
      "  es = Elasticsearch(\n"
     ]
    }
   ],
   "source": [
    "es = Elasticsearch(\n",
    "    ['http://localhost:9200'],\n",
    "    http_auth=('elastic', '4862')\n",
    ")"
   ]
  },
  {
   "cell_type": "code",
   "execution_count": 16,
   "id": "dd43f3ac-af69-4845-88fa-4b8f33a49c7e",
   "metadata": {},
   "outputs": [],
   "source": [
    "index_name = 'test_norelationnel'\n",
    "\n",
    "# Définition du mapping\n",
    "mapping = {\n",
    "    \"mappings\": {\n",
    "        \"properties\": {\n",
    "            \"author\": {\n",
    "                \"type\": \"text\",\n",
    "                \"fields\": {\n",
    "                    \"keyword\": {\n",
    "                        \"type\": \"keyword\",\n",
    "                        \"ignore_above\": 256\n",
    "                    }\n",
    "                }\n",
    "            },\n",
    "            \"cdiscount_response\": {\n",
    "                \"type\": \"long\"\n",
    "            },\n",
    "            \"cdiscount_response_content\": {\n",
    "                \"type\": \"text\",\n",
    "                \"fields\": {\n",
    "                    \"keyword\": {\n",
    "                        \"type\": \"keyword\"\n",
    "                    }\n",
    "                }\n",
    "            },\n",
    "            \"cdiscount_response_date\": {\n",
    "                \"type\": \"date\",\n",
    "                \"format\": \"dd/MM/yyyy\"\n",
    "            },\n",
    "            \"compound\": {\n",
    "                \"type\": \"float\"\n",
    "            },\n",
    "            \"date_review\": {\n",
    "                \"type\": \"date\",\n",
    "                \"format\": \"dd/MM/yyyy\"\n",
    "            },\n",
    "            \"neg\": {\n",
    "                \"type\": \"float\"\n",
    "            },\n",
    "            \"neu\": {\n",
    "                \"type\": \"float\"\n",
    "            },\n",
    "            \"note\": {\n",
    "                \"type\": \"integer\"\n",
    "            },\n",
    "            \"pos\": {\n",
    "                \"type\": \"float\"\n",
    "            },\n",
    "            \"review\": {\n",
    "                \"type\": \"text\",\n",
    "                \"fields\": {\n",
    "                    \"keyword\": {\n",
    "                        \"type\": \"keyword\"\n",
    "                    }\n",
    "                }\n",
    "            }\n",
    "        }\n",
    "    }\n",
    "}\n",
    "\n",
    "# Création de l'index avec le mapping\n",
    "es.indices.create(index=index_name, body=mapping)\n",
    "\n",
    "with open('../data/processed/L7_processed.csv', 'r', encoding='utf-8') as file:\n",
    "    reader = csv.DictReader(file)\n",
    "    for row in reader:\n",
    "        note = int(row['note'])\n",
    "\n",
    "        entry = {\n",
    "            'author': row['author'],\n",
    "            'review': row['review'],\n",
    "            'date_review': row['date_review'],\n",
    "            'note': note,\n",
    "            'cdiscount_response': int(row['cdiscount_response']) if row['cdiscount_response'] else None,\n",
    "            'cdiscount_response_date': row['cdiscount_response_date'] if row['cdiscount_response_date'] else None,\n",
    "            'cdiscount_response_content': row['cdiscount_response_content'] if row['cdiscount_response_content'] else None,\n",
    "            'neg': float(row['neg']) if row['neg'] else None,\n",
    "            'neu': float(row['neu']) if row['neu'] else None,\n",
    "            'pos': float(row['pos']) if row['pos'] else None,\n",
    "            'compound': float(row['compound']) if row['compound'] else None\n",
    "        }\n",
    "\n",
    "        es.index(index=index_name, body=entry)"
   ]
  },
  {
   "cell_type": "code",
   "execution_count": null,
   "id": "a71e062d",
   "metadata": {},
   "outputs": [],
   "source": []
  },
  {
   "cell_type": "code",
   "execution_count": 11,
   "id": "655b30a2-a5f8-451b-90bc-1386f866c1fd",
   "metadata": {
    "scrolled": true
   },
   "outputs": [
    {
     "name": "stderr",
     "output_type": "stream",
     "text": [
      "/tmp/ipykernel_7254/1438436984.py:23: DeprecationWarning: Passing transport options in the API method is deprecated. Use 'Elasticsearch.options()' instead.\n",
      "  es.indices.delete(index=index_name, ignore=[400, 404])\n"
     ]
    }
   ],
   "source": [
    "from elasticsearch import Elasticsearch\n",
    "import csv\n",
    "\n",
    "index_name = \"test_relationnel\"\n",
    "\n",
    "mapping = {\n",
    "    \"settings\": {\n",
    "        \"number_of_shards\": 1,\n",
    "        \"number_of_replicas\": 0\n",
    "    },\n",
    "    \"mappings\": {\n",
    "        \"properties\": {\n",
    "            \"name\": {\"type\": \"text\"},\n",
    "            \"URL\": {\"type\": \"keyword\"},\n",
    "            \"note\": {\"type\": \"float\"},\n",
    "            \"avis\": {\"type\": \"integer\"},\n",
    "            \"sous-cat\": {\"type\": \"text\"}\n",
    "        }\n",
    "    }\n",
    "}\n",
    "\n",
    "# Supprimer l'index existant\n",
    "es.indices.delete(index=index_name, ignore=[400, 404])\n",
    "\n",
    "# Créer l'index avec le nouveau mapping\n",
    "es.indices.create(index=index_name, body=mapping)\n",
    "\n",
    "# Réindexer les données à partir du fichier CSV\n",
    "with open('/home/jben/Documents/CDE_Satisfaction2023/data/processed/L4_processed.csv', 'r') as file:\n",
    "    csv_reader = csv.DictReader(file)\n",
    "    next(csv_reader)  # Skip the header row\n",
    "    \n",
    "    for row in csv_reader:\n",
    "        entry = {\n",
    "            'name': row['﻿name'],\n",
    "            'URL': row['URL'],\n",
    "            'note': float(row['note']),\n",
    "            'avis': int(row['avis']),\n",
    "            'sous-cat': row['sous-cat']\n",
    "        }\n",
    "        \n",
    "        es.index(index=index_name, body=entry)"
   ]
  }
 ],
 "metadata": {
  "kernelspec": {
   "display_name": "Python 3 (ipykernel)",
   "language": "python",
   "name": "python3"
  },
  "language_info": {
   "codemirror_mode": {
    "name": "ipython",
    "version": 3
   },
   "file_extension": ".py",
   "mimetype": "text/x-python",
   "name": "python",
   "nbconvert_exporter": "python",
   "pygments_lexer": "ipython3",
   "version": "3.10.12"
  }
 },
 "nbformat": 4,
 "nbformat_minor": 5
}
