{
 "cells": [
  {
   "cell_type": "code",
   "execution_count": 4,
   "id": "b2977682-645d-4b6e-83af-1549b55249b4",
   "metadata": {},
   "outputs": [],
   "source": [
    "import csv\n",
    "from elasticsearch import Elasticsearch"
   ]
  },
  {
   "cell_type": "code",
   "execution_count": 5,
   "id": "e3d3a130-3bd6-4850-a5bf-6a2a504d8197",
   "metadata": {},
   "outputs": [
    {
     "name": "stderr",
     "output_type": "stream",
     "text": [
      "/tmp/ipykernel_7254/2209251241.py:1: DeprecationWarning: The 'http_auth' parameter is deprecated. Use 'basic_auth' or 'bearer_auth' parameters instead\n",
      "  es = Elasticsearch(\n"
     ]
    }
   ],
   "source": [
    "es = Elasticsearch(\n",
    "    ['http://localhost:9200'],\n",
    "    http_auth=('elastic', '4862')\n",
    ")"
   ]
  },
  {
   "cell_type": "code",
   "execution_count": 3,
   "id": "dd43f3ac-af69-4845-88fa-4b8f33a49c7e",
   "metadata": {},
   "outputs": [
    {
     "name": "stderr",
     "output_type": "stream",
     "text": [
      "/tmp/ipykernel_27870/2348605399.py:52: DeprecationWarning: Passing transport options in the API method is deprecated. Use 'Elasticsearch.options()' instead.\n",
      "  es.indices.create(index=index_name, body=mapping, ignore=400)\n"
     ]
    }
   ],
   "source": [
    "import csv\n",
    "from elasticsearch import Elasticsearch\n",
    "\n",
    "index_name = \"test_norelationnel\"\n",
    "\n",
    "# Define the mapping for the index\n",
    "mapping = {\n",
    "    \"mappings\": {\n",
    "        \"properties\": {\n",
    "            \"review\": {\n",
    "                \"type\": \"text\",\n",
    "                \"fields\": {\n",
    "                    \"keyword\": {\n",
    "                        \"type\": \"keyword\"\n",
    "                    }\n",
    "                }\n",
    "            },\n",
    "            \"date_review\": {\n",
    "                \"type\": \"date\",\n",
    "                \"format\": \"dd/MM/yyyy\"\n",
    "            },\n",
    "            \"cdiscount_response_date\": {\n",
    "                \"type\": \"date\",\n",
    "                \"format\": \"dd/MM/yyyy\"\n",
    "            },\n",
    "            \"cdiscount_response_content\": {\n",
    "                \"type\": \"text\",\n",
    "                \"fields\": {\n",
    "                    \"keyword\": {\n",
    "                        \"type\": \"keyword\"\n",
    "                    }\n",
    "                }\n",
    "            },\n",
    "            \"note\": {\n",
    "                \"type\": \"integer\"\n",
    "            },\n",
    "            \"note_p\": {\n",
    "                \"type\": \"float\"\n",
    "            },\n",
    "            \"polarite\": {\n",
    "                \"type\": \"float\"\n",
    "            },\n",
    "            \"subjectivite\": {\n",
    "                \"type\": \"float\"\n",
    "            }\n",
    "        }\n",
    "    }\n",
    "}\n",
    "\n",
    "\n",
    "\n",
    "es.indices.create(index=index_name, body=mapping, ignore=400)\n",
    "\n",
    "with open('/home/jben/Documents/CDE_Satisfaction2023/data/processed/L6_processed.csv', 'r') as file:\n",
    "    csv_reader = csv.DictReader(file, fieldnames=['author', 'review', 'date_review', 'note', 'cdiscount_response', 'cdiscount_response_date', 'cdiscount_response_content', 'polarite', 'subjectivite'])\n",
    "    next(csv_reader)  # Skip the header row\n",
    "    \n",
    "    for row in csv_reader:\n",
    "        # Check if date fields have valid values\n",
    "        if not row['date_review']:\n",
    "            row['date_review'] = '01/01/1900'\n",
    "        if not row['cdiscount_response_date']:\n",
    "            row['cdiscount_response_date'] = '01/01/1900'\n",
    "        \n",
    "        # Calculate the scaled note value\n",
    "        note = int(row['note'])\n",
    "        note_p = (note - 1) / 4\n",
    "        \n",
    "        entry = {\n",
    "            'author': row['author'],\n",
    "            'review': row['review'],\n",
    "            'date_review': row['date_review'],\n",
    "            'note': note,\n",
    "            'note_p': note_p,\n",
    "            'cdiscount_response': int(row['cdiscount_response']),\n",
    "            'cdiscount_response_date': row['cdiscount_response_date'],\n",
    "            'cdiscount_response_content': row['cdiscount_response_content'],\n",
    "            'polarite': float(row['polarite']),\n",
    "            'subjectivite': float(row['subjectivite'])\n",
    "        }\n",
    "        \n",
    "        es.index(index=index_name, body=entry)"
   ]
  },
  {
   "cell_type": "code",
   "execution_count": 11,
   "id": "655b30a2-a5f8-451b-90bc-1386f866c1fd",
   "metadata": {
    "scrolled": true
   },
   "outputs": [
    {
     "name": "stderr",
     "output_type": "stream",
     "text": [
      "/tmp/ipykernel_7254/1438436984.py:23: DeprecationWarning: Passing transport options in the API method is deprecated. Use 'Elasticsearch.options()' instead.\n",
      "  es.indices.delete(index=index_name, ignore=[400, 404])\n"
     ]
    }
   ],
   "source": [
    "from elasticsearch import Elasticsearch\n",
    "import csv\n",
    "\n",
    "index_name = \"test_relationnel\"\n",
    "\n",
    "mapping = {\n",
    "    \"settings\": {\n",
    "        \"number_of_shards\": 1,\n",
    "        \"number_of_replicas\": 0\n",
    "    },\n",
    "    \"mappings\": {\n",
    "        \"properties\": {\n",
    "            \"name\": {\"type\": \"text\"},\n",
    "            \"URL\": {\"type\": \"keyword\"},\n",
    "            \"note\": {\"type\": \"float\"},\n",
    "            \"avis\": {\"type\": \"integer\"},\n",
    "            \"sous-cat\": {\"type\": \"text\"}\n",
    "        }\n",
    "    }\n",
    "}\n",
    "\n",
    "# Supprimer l'index existant\n",
    "es.indices.delete(index=index_name, ignore=[400, 404])\n",
    "\n",
    "# Créer l'index avec le nouveau mapping\n",
    "es.indices.create(index=index_name, body=mapping)\n",
    "\n",
    "# Réindexer les données à partir du fichier CSV\n",
    "with open('/home/jben/Documents/CDE_Satisfaction2023/data/processed/L4_processed.csv', 'r') as file:\n",
    "    csv_reader = csv.DictReader(file)\n",
    "    next(csv_reader)  # Skip the header row\n",
    "    \n",
    "    for row in csv_reader:\n",
    "        entry = {\n",
    "            'name': row['﻿name'],\n",
    "            'URL': row['URL'],\n",
    "            'note': float(row['note']),\n",
    "            'avis': int(row['avis']),\n",
    "            'sous-cat': row['sous-cat']\n",
    "        }\n",
    "        \n",
    "        es.index(index=index_name, body=entry)"
   ]
  }
 ],
 "metadata": {
  "kernelspec": {
   "display_name": "Python 3 (ipykernel)",
   "language": "python",
   "name": "python3"
  },
  "language_info": {
   "codemirror_mode": {
    "name": "ipython",
    "version": 3
   },
   "file_extension": ".py",
   "mimetype": "text/x-python",
   "name": "python",
   "nbconvert_exporter": "python",
   "pygments_lexer": "ipython3",
   "version": "3.10.12"
  }
 },
 "nbformat": 4,
 "nbformat_minor": 5
}
